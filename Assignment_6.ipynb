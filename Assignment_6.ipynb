{
  "nbformat": 4,
  "nbformat_minor": 0,
  "metadata": {
    "colab": {
      "provenance": []
    },
    "kernelspec": {
      "name": "python3",
      "display_name": "Python 3"
    },
    "language_info": {
      "name": "python"
    }
  },
  "cells": [
    {
      "cell_type": "code",
      "execution_count": null,
      "metadata": {
        "id": "k0UURNDb7HTw"
      },
      "outputs": [],
      "source": [
        "''' 1. Explain the purpose and advantages of NumPy in scientific computing and data analysis. How does it\n",
        "enhance Python's capabilities for numerical operations?'''\n",
        "\n",
        "ANSWER:\n",
        "\n",
        "NumPy (Numerical Python) is a powerful library in Python that provides support for large,\n",
        "multi-dimensional arrays and matrices, along with a collection of mathematical\n",
        "functions to operate on these arrays efficiently. It serves as the backbone for\n",
        "many other scientific computing and data analysis libraries.\n",
        "\n",
        "Purpose of NumPy:\n",
        "Efficient Numerical Computation: NumPy is designed for high-performance computations\n",
        "involving arrays and matrices, enabling fast operations on large datasets.\n",
        "\n",
        "Multi-dimensional Arrays: At the core of NumPy is the ndarray object, which allows\n",
        "for the creation and manipulation of n-dimensional arrays (1D, 2D, 3D, etc.),\n",
        "making it easier to work with complex datasets.\n",
        "\n",
        "Mathematical Functions: NumPy provides a wide range of mathematical operations such\n",
        "as linear algebra, Fourier transforms, statistical functions, and more, essential\n",
        "for scientific computing.\n",
        "\n",
        "Memory-efficient Storage: NumPy arrays consume much less memory than Python’s\n",
        "built-in data structures (like lists), especially for large datasets."
      ]
    },
    {
      "cell_type": "code",
      "source": [
        "'''2. Compare and contrast np.mean() and np.average() functions in NumPy. When would you use one over the\n",
        "other?'''\n",
        "\n",
        "np.mean():\n",
        "\n",
        "Purpose: Computes the arithmetic mean along the specified axis of the array.\n",
        "Syntax: np.mean(a, axis=None, dtype=None, out=None, keepdims=False)\n",
        "a: Input array.\n",
        "#axis:\n",
        " Axis along which the means are computed. By default, it computes the mean\n",
        "of the flattened array.\n",
        "#dtype:\n",
        "Data type to use in computing the mean.\n",
        "#out:\n",
        "Alternative output array to place the result.\n",
        "#keepdims:\n",
        "If set to True, the axes that are reduced are left in the result as dimensions with size one.\n",
        "\n",
        "\n",
        "np.average():\n",
        "\n",
        "Purpose: Computes the weighted average of array elements along the specified axis.\n",
        "If no weights are provided, it behaves like np.mean().\n",
        "\n",
        "Syntax: np.average(a, axis=None, weights=None, returned=False)\n",
        "Parameters:\n",
        "#a:\n",
        "Input array.\n",
        "#axis:\n",
        "Axis along which the averages are computed. By default, it computes the\n",
        "average of the flattened array.\n",
        "#weights:\n",
        "An optional array of the same shape as a. It specifies the weight for each element.\n",
        "returned: If set to True, returns a tuple of the average and the sum of the weights."
      ],
      "metadata": {
        "id": "elfqxmz0nEaD"
      },
      "execution_count": null,
      "outputs": []
    },
    {
      "cell_type": "code",
      "source": [
        "'''3. Describe the methods for reversing a NumPy array along different axes. Provide examples for 1D and 2D\n",
        "arrays.'''\n",
        "\n",
        "ANSWER:\n",
        "\n",
        "In NumPy, arrays can be reversed along different axes using various techniques.\n",
        " Here are some methods for reversing NumPy arrays along different axes:\n",
        "\n",
        "1. Reversing a 1D NumPy Array\n",
        "For a 1D array, reversing the array means reversing the order of the elements.\n",
        "import numpy as np\n",
        "\n",
        "# Create a 1D array\n",
        "arr_1d = np.array([1, 2, 3, 4, 5])\n",
        "\n",
        "# Reverse the 1D array\n",
        "reversed_1d = arr_1d[::-1]\n",
        "print(reversed_1d)\n",
        "# Output: [5 4 3 2 1]\n",
        "\n",
        "Method 2: Using np.flip()\n",
        "NumPy’s flip() function reverses the array along the specified axis. For a 1D array, the axis is 0.\n",
        "\n",
        "reversed_1d_flip = np.flip(arr_1d)\n",
        "print(reversed_1d_flip)\n",
        "# Output: [5 4 3 2 1]\n",
        "\n",
        "\n",
        "In NumPy, arrays can be reversed along different axes using various techniques. Here are some methods for reversing NumPy arrays along different axes:\n",
        "\n",
        "1. Reversing a 1D NumPy Array\n",
        "For a 1D array, reversing the array means reversing the order of the elements.\n",
        "\n",
        "Method 1: Using slicing ([::-1])\n",
        "You can reverse the array using Python slicing with a step of -1.\n",
        "\n",
        "python\n",
        "Copy code\n",
        "import numpy as np\n",
        "\n",
        "# Create a 1D array\n",
        "arr_1d = np.array([1, 2, 3, 4, 5])\n",
        "\n",
        "# Reverse the 1D array\n",
        "reversed_1d = arr_1d[::-1]\n",
        "print(reversed_1d)\n",
        "Output:\n",
        "\n",
        "csharp\n",
        "Copy code\n",
        "[5 4 3 2 1]\n",
        "Method 2: Using np.flip()\n",
        "NumPy’s flip() function reverses the array along the specified axis. For a 1D array, the axis is 0.\n",
        "\n",
        "python\n",
        "Copy code\n",
        "reversed_1d_flip = np.flip(arr_1d)\n",
        "print(reversed_1d_flip)\n",
        "Output:\n",
        "\n",
        "csharp\n",
        "Copy code\n",
        "[5 4 3 2 1]\n",
        "\n",
        "2. Reversing a 2D NumPy Array\n",
        "For a 2D array, you can reverse the array along different axes: rows, columns, or both.\n",
        "\n",
        "Method 1: Reverse along rows (axis 0)\n",
        "To reverse along the rows (top-to-bottom) by slicing ([::-1, :])\n",
        "\n",
        "# Create a 2D array\n",
        "arr_2d = np.array([[1, 2, 3], [4, 5, 6], [7, 8, 9]])\n",
        "\n",
        "# Reverse along rows#\n",
        "reversed_rows = arr_2d[::-1, :]\n",
        "print(reversed_rows)\n",
        "#ouput: [[7 8 9]\n",
        "        [4 5 6]\n",
        "        [1 2 3]]\n",
        "\n",
        "\n",
        "Or using np.flip:\n",
        "reversed_rows_flip = np.flip(arr_2d, axis=0)\n",
        "print(reversed_rows_flip)\n",
        "#ouput:\n",
        "[[7 8 9]\n",
        "[4 5 6]\n",
        "[1 2 3]]\n",
        "\n",
        "\n"
      ],
      "metadata": {
        "id": "xcu5UHRc8qR-"
      },
      "execution_count": null,
      "outputs": []
    },
    {
      "cell_type": "code",
      "source": [
        "'''4. How can you determine the data type of elements in a NumPy array?\n",
        "Discuss the importance of data types\n",
        "in memory management and performance.'''\n",
        "\n",
        "Checking the Data Type:\n",
        "\n",
        "import numpy as np\n",
        "# Create a NumPy array\n",
        "arr = np.array([1, 2, 3])\n",
        "# Determine the data type of elements\n",
        "print(arr.dtype)\n",
        "\n",
        "#Output:int64\n",
        "This shows that the elements in the array are 64-bit integers.\n",
        "\n",
        "Example: Data Type of Floating-Point Numbers\n",
        "arr_float = np.array([1.0, 2.0, 3.0])\n",
        "\n",
        "# Determine the data type\n",
        "print(arr_float.dtype)\n",
        "\n",
        "#Output:float64\n",
        "This shows that the array contains 64-bit floating-point numbers.\n",
        "\n",
        "Importance of Data Types in NumPy for Memory Management and Performance:\n",
        "\n",
        "Data types in NumPy are important for efficient memory management.\n",
        "Each data type has a fixed size in memory. For example:\n",
        "An int8 (8-bit integer) occupies 1 byte per element.\n",
        "An int64 (64-bit integer) occupies 8 bytes per element.\n",
        "A float64 (64-bit floating-point number) also occupies 8 bytes per element.\n",
        "By choosing the appropriate data type for an array, you can control the memory\n",
        "footprint of the array. For instance, if you only need small integers, using int8\n",
        " instead of int64 can significantly reduce the memory usage, especially for large arrays.\n"
      ],
      "metadata": {
        "id": "4KQScoKGAjVj"
      },
      "execution_count": null,
      "outputs": []
    },
    {
      "cell_type": "code",
      "source": [
        "5.'''Define ndarrays in NumPy and explain their key features.\n",
        "How do they differ from standard Python lists?'''\n",
        "\n",
        "An ndarray is the core data structure in NumPy,\n",
        "representing a homogeneous, multidimensional array of elements.\n",
        "\n",
        "#Multidimensional:\n",
        "An ndarray can have any number of dimensions 1D array ,2D array upto nD array\n",
        "#Homogeneous Data:\n",
        "All elements in an ndarray must be of the same data type.\n",
        "#Efficient Memory Layout:\n",
        "NumPy arrays store elements in contiguous blocks of memory,\n",
        "making element access and operations much faster compared to Python lists.\n",
        "#Fixed Size\n",
        "Once an ndarray is created, its size cannot be changed.\n",
        "#NumPy allows broadcasting\n",
        "arr = np.array([1, 2, 3])\n",
        "result = arr + 1\n",
        "print(result)   Output: [2, 3, 4]\n",
        "#Slicing and Indexing\n",
        "Like Python lists, NumPy arrays support slicing and advanced indexing,\n",
        "but they extend this functionality to multiple dimensions.\n"
      ],
      "metadata": {
        "id": "QaCpWTGKBk9c"
      },
      "execution_count": null,
      "outputs": []
    },
    {
      "cell_type": "code",
      "source": [
        "'''6.Analyze the performance benefits of NumPy arrays over Python lists for large-scale numerical operations.'''\n",
        "\n",
        "1. Memory Efficiency\n",
        "NumPy Arrays: Store elements in contiguous blocks of memory, making memory\n",
        "access faster and more efficient. Additionally, NumPy arrays are homogeneous,\n",
        "meaning all elements are of the same type\n",
        "Python Lists: Store elements as references to Python objects, which adds overhead.\n",
        "\n",
        "2. Vectorized Operations (Avoiding Loops)\n",
        "NumPy Arrays: Support vectorized operations, meaning element-wise operations\n",
        "are performed directly in C (or Fortran), without needing explicit Python loops.\n",
        "These operations are optimized and happen much faster because they are executed\n",
        "at the compiled level.\n",
        "\n",
        "Python Lists: Require explicit loops for element-wise operations, which are\n",
        "slower because each iteration is interpreted by the Python interpreter and\n",
        "involves additional overhead for type-checking and memory allocation.\n",
        "\n",
        "3.Broadcasting\n",
        "NumPy Arrays: Support broadcasting, a feature that allows you to perform operations\n",
        "between arrays of different shapes without needing to explicitly reshape or\n",
        "replicate data. This reduces the need for looping and additional memory allocation,\n",
        "making operations both faster and more memory-efficient.\n",
        "Python Lists: Do not support broadcasting.\n",
        "\n",
        "4.Numerical Precision and Control over Data Types\n",
        "NumPy Arrays: Provide control over the data types of the elements allowing you to\n",
        "optimize both memory usage and performance depending on your requirements. You can work\n",
        " with very large datasets with reduced precision if necessary to save memory.\n",
        "Python Lists: Automatically use the int or float types, which might not always\n",
        "provide the best performance or memory efficiency."
      ],
      "metadata": {
        "id": "9Y_e1fFLD4Vf"
      },
      "execution_count": null,
      "outputs": []
    },
    {
      "cell_type": "code",
      "source": [
        "'''7.Compare vstack() and hstack() functions in NumPy. Provide examples\n",
        "demonstrating their usage and output.'''\n",
        "In NumPy, the functions np.vstack() and np.hstack() are used to stack arrays\n",
        "vertically and horizontally, respectively.\n",
        "\n",
        "np.vstack():\n",
        "Purpose: Stacks arrays vertically (row-wise).\n",
        "Input Requirement: The input arrays must have the same shape along all but the first axis.\n",
        "Output: Returns a new array with the input arrays stacked on top of each other.\n",
        "\n",
        "np.hstack():\n",
        "\n",
        "Purpose: Stacks arrays horizontally (column-wise).\n",
        "Input Requirement: The input arrays must have the same shape along all but the second axis.\n",
        "Output: Returns a new array with the input arrays concatenated side by side."
      ],
      "metadata": {
        "id": "cposb24CoH4x"
      },
      "execution_count": null,
      "outputs": []
    },
    {
      "cell_type": "code",
      "source": [
        "'''8.Explain the differences between fliplr() and flipud() methods in NumPy,\n",
        "including their effects on various\n",
        "array dimensions.'''\n",
        "\n",
        "In NumPy, the functions np.fliplr() and np.flipud() are used to flip (reverse)\n",
        "the elements of an array along different axes. Here’s a detailed explanation of\n",
        "their differences, including how they affect various array dimensions.\n",
        "\n",
        "1.\n",
        "np.fliplr():\n",
        "\n",
        "Purpose: Flips an array from left to right (horizontal flipping).\n",
        "Effect: It reverses the order of the columns in a 2D array.\n",
        "Input Requirement: This function can only be used on 2D arrays (matrices).\n",
        "For higher dimensions, it will work on the last two dimensions.\n",
        "\n",
        "2.np.flipud():\n",
        "\n",
        "Purpose: Flips an array from up to down (vertical flipping).\n",
        "Effect: It reverses the order of the rows in a 2D array.\n",
        "Input Requirement: This function can only be used on 2D arrays. Similar to fliplr(),\n",
        "it will work on the last two dimensions for higher dimensions."
      ],
      "metadata": {
        "id": "O-Jjs_FCou9q"
      },
      "execution_count": null,
      "outputs": []
    },
    {
      "cell_type": "code",
      "source": [
        "'''8.9. Discuss the functionality of the array_split() method in NumPy.\n",
        "How does it handle uneven splits?'''\n",
        "\n",
        "The np.array_split() function in NumPy is used to split an array into multiple\n",
        "sub-arrays along a specified axis.\n",
        "\n",
        "Functionality of np.array_split()\n",
        "\n",
        "Syntax: numpy.array_split(ary, indices_or_sections, axis=0)\n",
        "Parameters:\n",
        "ary: The input array to be split.\n",
        "indices_or_sections: This can either be:\n",
        "An integer, indicating the number of equal parts to split the array into.\n",
        "An array of indices, indicating where to split the array.\n",
        "axis: The axis along which to split the array (default is 0, i.e., along rows).\n",
        "Return Value:\n",
        "\n",
        "It returns a list of sub-arrays after splitting the original array."
      ],
      "metadata": {
        "id": "DVG1CsUqpR-L"
      },
      "execution_count": null,
      "outputs": []
    },
    {
      "cell_type": "code",
      "source": [
        "'''10.10. Explain the concepts of vectorization and broadcasting in NumPy.\n",
        "How do they contribute to efficient array operations?'''\n",
        "\n",
        "1.Vectorization:\n",
        "Vectorization refers to the ability to perform operations on entire arrays or\n",
        "slices of arrays, rather than using explicit loops. In vectorized operations,\n",
        "NumPy takes advantage of underlying optimized C and Fortran code, enabling faster computations.\n",
        "\n",
        "Advantages:\n",
        "\n",
        "Performance: Vectorized operations are typically much faster than their equivalent\n",
        "operations implemented using Python loops because they use optimized, low-level routines.\n",
        "Readability: Code that utilizes vectorization is often more concise and easier\n",
        "to read, as it avoids boilerplate code.\n",
        "EXAMPLE:\n",
        "\n",
        "import numpy as np\n",
        "a = np.random.rand(1000000)\n",
        "b = np.random.rand(1000000)\n",
        "\n",
        "# Vectorized addition\n",
        "c = a -b\n",
        "\n",
        "2.Broadcasting\n",
        "Broadcasting is a technique that allows NumPy to work with arrays of different\n",
        "shapes during arithmetic operations. When performing operations on arrays of different\n",
        "shapes, NumPy automatically expands the smaller array (in terms of dimensions) to\n",
        "match the shape of the larger array without making unnecessary copies of the data.\n",
        "\n",
        "EXAMPLE:\n",
        "\n",
        "import numpy as np\n",
        "a = np.array([1, 2, 3])\n",
        "b = np.array([[10], [20], [30]])\n",
        "\n",
        "# Broadcasting in action\n",
        "result = a + b\n",
        "print(result)\n",
        "# Output:\n",
        "[[11]\n",
        "[22]\n",
        "[33]]\n"
      ],
      "metadata": {
        "id": "tu9kMPdipxT3"
      },
      "execution_count": null,
      "outputs": []
    },
    {
      "cell_type": "code",
      "source": [
        "#PRACTICAL QUESTION:\n",
        "'''1. Create a 3x3 NumPy array with random integers between 1 and 100.\n",
        "Then, interchange its rows and columns.'''\n",
        "import numpy as np\n",
        "arr=np.random.randint(1,100,(3,3))\n",
        "print(arr)\n",
        "arr=arr.T\n",
        "print(\"after interchanging: \",arr)"
      ],
      "metadata": {
        "colab": {
          "base_uri": "https://localhost:8080/"
        },
        "id": "zhOpvHv0dc_f",
        "outputId": "58d858e4-6c8a-41bf-ba3b-c70a6b51ae1c"
      },
      "execution_count": 3,
      "outputs": [
        {
          "output_type": "stream",
          "name": "stdout",
          "text": [
            "[[94  7 97]\n",
            " [71 21 22]\n",
            " [ 4 52 96]]\n",
            "after interchanging:  [[94 71  4]\n",
            " [ 7 21 52]\n",
            " [97 22 96]]\n"
          ]
        }
      ]
    },
    {
      "cell_type": "code",
      "source": [
        "##PRACTICAL QUESTION:\n",
        "'''2.Generate a 1D NumPy array with 10 elements. Reshape it into a 2x5 array, then into a 5x2 array.'''\n",
        "\n",
        "import numpy as np\n",
        "arr=np.random.randint(1,10,(1,10))\n",
        "print(arr)\n",
        "print(\"After reshaping it into a 2x5 array: \",arr.reshape(2,5))\n",
        "print(\"After reshaping it into a 5x2 array: \",arr.reshape(5,2))"
      ],
      "metadata": {
        "colab": {
          "base_uri": "https://localhost:8080/"
        },
        "id": "S7ed_inleDYe",
        "outputId": "16a023ed-4c00-491f-9bd5-b2aa866c5480"
      },
      "execution_count": 6,
      "outputs": [
        {
          "output_type": "stream",
          "name": "stdout",
          "text": [
            "[[5 8 6 7 1 7 5 1 6 3]]\n",
            "After reshaping it into a 2x5 array:  [[5 8 6 7 1]\n",
            " [7 5 1 6 3]]\n",
            "After reshaping it into a 5x2 array:  [[5 8]\n",
            " [6 7]\n",
            " [1 7]\n",
            " [5 1]\n",
            " [6 3]]\n"
          ]
        }
      ]
    },
    {
      "cell_type": "code",
      "source": [
        " ##PRACTICAL QUESTION:\n",
        " '''Create a 4x4 NumPy array with random float values. Add a border of\n",
        " zeros around it, resulting in a 6x6 array.'''\n",
        "\n",
        "import numpy as np\n",
        "arr_4x4 = np.random.rand(4, 4)\n",
        "arr_6x6 = np.pad(arr_4x4, pad_width=1, mode='constant', constant_values=0)\n",
        "print(arr_6x6)\n"
      ],
      "metadata": {
        "colab": {
          "base_uri": "https://localhost:8080/"
        },
        "id": "kNqvbqeJfcsJ",
        "outputId": "b0af073e-2e14-47a1-a221-85ac0923f064"
      },
      "execution_count": 12,
      "outputs": [
        {
          "output_type": "stream",
          "name": "stdout",
          "text": [
            "[[0.         0.         0.         0.         0.         0.        ]\n",
            " [0.         0.68060784 0.12588747 0.05410358 0.91747197 0.        ]\n",
            " [0.         0.25678801 0.93071226 0.14786883 0.58974351 0.        ]\n",
            " [0.         0.37159565 0.68756622 0.68803423 0.53041737 0.        ]\n",
            " [0.         0.39809239 0.73898178 0.94421805 0.52105601 0.        ]\n",
            " [0.         0.         0.         0.         0.         0.        ]]\n"
          ]
        }
      ]
    },
    {
      "cell_type": "code",
      "source": [
        "'''4. Using NumPy, create an array of integers from 10 to 60 with a step of 5.'''\n",
        "import numpy as np\n",
        "arr=np.arange(10,61,5)\n",
        "print(arr)"
      ],
      "metadata": {
        "colab": {
          "base_uri": "https://localhost:8080/"
        },
        "id": "uayjzzjPhL8J",
        "outputId": "daab19cd-b98a-4088-c841-724f820cd01b"
      },
      "execution_count": 13,
      "outputs": [
        {
          "output_type": "stream",
          "name": "stdout",
          "text": [
            "[10 15 20 25 30 35 40 45 50 55 60]\n"
          ]
        }
      ]
    },
    {
      "cell_type": "code",
      "source": [
        "'''5.Create a NumPy array of strings ['python', 'numpy', 'pandas']. Apply\n",
        "different case transformations\n",
        "(uppercase, lowercase, title case, etc.) to each element.'''\n",
        "\n",
        "import numpy as np\n",
        "arr = np.array(['python', 'numpy', 'pandas'])\n",
        "uppercase_arr = np.char.upper(arr)\n",
        "lowercase_arr = np.char.lower(arr)\n",
        "titlecase_arr = np.char.title(arr)\n",
        "print(\"Original array:\", arr)\n",
        "print(\"Uppercase:\", uppercase_arr)\n",
        "print(\"Lowercase:\", lowercase_arr)\n",
        "print(\"Title case:\", titlecase_arr)"
      ],
      "metadata": {
        "colab": {
          "base_uri": "https://localhost:8080/"
        },
        "id": "yj7x-v2fhZWV",
        "outputId": "38729e0a-0021-4d96-be4a-e1886aaa2a96"
      },
      "execution_count": 14,
      "outputs": [
        {
          "output_type": "stream",
          "name": "stdout",
          "text": [
            "Original array: ['python' 'numpy' 'pandas']\n",
            "Uppercase: ['PYTHON' 'NUMPY' 'PANDAS']\n",
            "Lowercase: ['python' 'numpy' 'pandas']\n",
            "Title case: ['Python' 'Numpy' 'Pandas']\n"
          ]
        }
      ]
    },
    {
      "cell_type": "code",
      "source": [
        "'''6. Generate a NumPy array of words. Insert a space between each\n",
        " character of every word in the array.'''\n",
        "\n",
        "import numpy as np\n",
        "words = np.array(['python', 'numpy', 'pandas'])\n",
        "spaced_words = np.char.join(' ', words)\n",
        "print(spaced_words)\n"
      ],
      "metadata": {
        "colab": {
          "base_uri": "https://localhost:8080/"
        },
        "id": "uSRPp8JUh_uy",
        "outputId": "64fcde8d-02ed-4740-b265-51191f4f5e34"
      },
      "execution_count": 15,
      "outputs": [
        {
          "output_type": "stream",
          "name": "stdout",
          "text": [
            "['p y t h o n' 'n u m p y' 'p a n d a s']\n"
          ]
        }
      ]
    },
    {
      "cell_type": "code",
      "source": [
        "'''7.Create two 2D NumPy arrays and perform element-wise addition, subtraction,\n",
        " multiplication, and division.import numpy as np'''\n",
        "\n",
        "# Create two 2D NumPy arrays\n",
        "array1 = np.array([[1, 2, 3], [4, 5, 6]])\n",
        "array2 = np.array([[7, 8, 9], [10, 11, 12]])\n",
        "\n",
        "# Perform element-wise operations\n",
        "addition = array1 + array2\n",
        "subtraction = array1 - array2\n",
        "multiplication = array1 * array2\n",
        "division = array1 / array2\n",
        "\n",
        "# Display the results\n",
        "print(\"Array 1:\\n\", array1)\n",
        "print(\"Array 2:\\n\", array2)\n",
        "print(\"Addition:\\n\", addition)\n",
        "print(\"Subtraction:\\n\", subtraction)\n",
        "print(\"Multiplication:\\n\", multiplication)\n",
        "print(\"Division:\\n\", division)\n"
      ],
      "metadata": {
        "colab": {
          "base_uri": "https://localhost:8080/"
        },
        "id": "_fRlFGq3icr8",
        "outputId": "bf64a6ac-bd7d-4ac9-db56-c769c5c6d447"
      },
      "execution_count": 16,
      "outputs": [
        {
          "output_type": "stream",
          "name": "stdout",
          "text": [
            "Array 1:\n",
            " [[1 2 3]\n",
            " [4 5 6]]\n",
            "Array 2:\n",
            " [[ 7  8  9]\n",
            " [10 11 12]]\n",
            "Addition:\n",
            " [[ 8 10 12]\n",
            " [14 16 18]]\n",
            "Subtraction:\n",
            " [[-6 -6 -6]\n",
            " [-6 -6 -6]]\n",
            "Multiplication:\n",
            " [[ 7 16 27]\n",
            " [40 55 72]]\n",
            "Division:\n",
            " [[0.14285714 0.25       0.33333333]\n",
            " [0.4        0.45454545 0.5       ]]\n"
          ]
        }
      ]
    },
    {
      "cell_type": "code",
      "source": [
        "'''8. Use NumPy to create a 5x5 identity matrix, then extract its diagonal elements.'''\n",
        "\n",
        "import numpy as np\n",
        "\n",
        "# Step 1: Create a 5x5 identity matrix\n",
        "identity_matrix = np.eye(5)\n",
        "\n",
        "# Step 2: Extract the diagonal elements\n",
        "diagonal_elements = np.diag(identity_matrix)\n",
        "\n",
        "# Display the results\n",
        "print(\"5x5 Identity Matrix:\\n\", identity_matrix)\n",
        "print(\"Diagonal Elements:\", diagonal_elements)\n"
      ],
      "metadata": {
        "colab": {
          "base_uri": "https://localhost:8080/"
        },
        "id": "35_XElAUjC12",
        "outputId": "30ffa8d5-deba-459a-8bba-97d6929591c7"
      },
      "execution_count": 17,
      "outputs": [
        {
          "output_type": "stream",
          "name": "stdout",
          "text": [
            "5x5 Identity Matrix:\n",
            " [[1. 0. 0. 0. 0.]\n",
            " [0. 1. 0. 0. 0.]\n",
            " [0. 0. 1. 0. 0.]\n",
            " [0. 0. 0. 1. 0.]\n",
            " [0. 0. 0. 0. 1.]]\n",
            "Diagonal Elements: [1. 1. 1. 1. 1.]\n"
          ]
        }
      ]
    },
    {
      "cell_type": "code",
      "source": [
        "'''9.Generate a NumPy array of 100 random integers between 0 and 1000.\n",
        " Find and display all prime numbers in\n",
        "this array.'''\n",
        "\n",
        "import numpy as np\n",
        "\n",
        "# Step 1: Generate a NumPy array of 100 random integers between 0 and 1000\n",
        "random_integers = np.random.randint(0, 100, size=100)\n",
        "\n",
        "# Step 2: Define a function to check for prime numbers\n",
        "def is_prime(n):\n",
        "    if n <= 1:\n",
        "        return False\n",
        "    for i in range(2, int(n**0.5) + 1):\n",
        "        if n % i == 0:\n",
        "            return False\n",
        "    return True\n",
        "prime_numbers = [num for num in random_integers if is_prime(num)]\n",
        "print(\"Random Integers:\", random_integers)\n",
        "print(\"Prime Numbers:\", prime_numbers)\n"
      ],
      "metadata": {
        "colab": {
          "base_uri": "https://localhost:8080/"
        },
        "id": "x4-AHUt5jqjZ",
        "outputId": "4892c1d6-ea43-42e5-ffd9-aac39587c4db"
      },
      "execution_count": 19,
      "outputs": [
        {
          "output_type": "stream",
          "name": "stdout",
          "text": [
            "Random Integers: [84 42 66 22 84 48 99 81 96 68 16 64 92 58 48 52 24 94 49 27 48 55 95  1\n",
            " 11 71 16 27  9 85 80 75 27 61 57 96 22 64 38 73  7 24 68 41 85  1 60 62\n",
            " 46 22  9 49 60 98  1 70 46 94 94 82 88 42 23 65 53 56 61 21 59  1 84 84\n",
            "  8 98 88 42 88 20 77  8  7 13 27 62 65 78 67 16 21 54 62  8 87 25 50 63\n",
            " 53 51 19 28]\n",
            "Prime Numbers: [11, 71, 61, 73, 7, 41, 23, 53, 61, 59, 7, 13, 67, 53, 19]\n"
          ]
        }
      ]
    },
    {
      "cell_type": "code",
      "source": [
        "'''10.Create a NumPy array representing daily temperatures for a month.\n",
        "Calculate and display the weekly\n",
        "averages.'''\n",
        "\n",
        "import numpy as np\n",
        "daily_temperatures = np.random.randint(20, 40, size=28)\n",
        "weekly_temperatures = daily_temperatures.reshape(4, 7)\n",
        "weekly_averages = np.mean(weekly_temperatures, axis=1)\n",
        "print(\"Daily Temperatures for the Month:\\n\", daily_temperatures)\n",
        "print(\"Weekly Averages:\\n\", weekly_averages)\n",
        "\n",
        "\n"
      ],
      "metadata": {
        "colab": {
          "base_uri": "https://localhost:8080/"
        },
        "id": "pK8ZHliCl28U",
        "outputId": "282b59c9-542c-44ea-d83e-fbd4299370f5"
      },
      "execution_count": 21,
      "outputs": [
        {
          "output_type": "stream",
          "name": "stdout",
          "text": [
            "Daily Temperatures for the Month:\n",
            " [32 23 33 27 31 25 39 38 29 27 23 34 39 39 32 34 29 39 20 29 29 25 35 36\n",
            " 21 38 24 26]\n",
            "Weekly Averages:\n",
            " [30.         32.71428571 30.28571429 29.28571429]\n"
          ]
        }
      ]
    },
    {
      "cell_type": "code",
      "source": [],
      "metadata": {
        "id": "cRYVXBCGm8UM"
      },
      "execution_count": null,
      "outputs": []
    }
  ]
}